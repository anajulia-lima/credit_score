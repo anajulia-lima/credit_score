{
 "cells": [
  {
   "cell_type": "markdown",
   "id": "63fb22d8",
   "metadata": {},
   "source": [
    "### PREVISÃO DO SCORE DE CRÉDITO COM REGRESSÃO LINEAR"
   ]
  },
  {
   "cell_type": "markdown",
   "id": "e98c6015",
   "metadata": {},
   "source": [
    "Criação de modelo preditivo de machine learning para prever o score de crédito do cliente<br>\n",
    "Fonte: Canal Nerd dos Dados"
   ]
  },
  {
   "cell_type": "markdown",
   "id": "5d546767",
   "metadata": {},
   "source": [
    "Etapa 1: Importando os dados e as bibliotecas"
   ]
  },
  {
   "cell_type": "code",
   "execution_count": 2,
   "id": "a3b88490",
   "metadata": {},
   "outputs": [],
   "source": [
    "# Iniciamos importando as bibliotecas e pacotes que iremos utilizar\n",
    "import pandas as pd\n",
    "import numpy as np\n",
    "import matplotlib.pyplot as plt\n",
    "import seaborn as sns\n",
    "\n",
    "# Para o scikit-learn, iremos importar apenas as funções que iremos utilizar\n",
    "\n",
    "from sklearn.model_selection import train_test_split\n",
    "from sklearn.preprocessing import StandardScaler\n",
    "from sklearn.preprocessing import MinMaxScaler\n",
    "from sklearn.preprocessing import LabelEncoder\n",
    "from sklearn.linear_model import LinearRegression\n",
    "from sklearn.metrics import r2_score\n",
    "\n",
    "# Configurações para exibir todas as colunas do df\n",
    "pd.set_option('display.max_columns', None)\n",
    "pd.set_option('display.max_rows', None)"
   ]
  },
  {
   "cell_type": "code",
   "execution_count": 3,
   "id": "b4eb1884",
   "metadata": {},
   "outputs": [],
   "source": [
    "# Importando os dados\n",
    "df = pd.read_excel('dados_credito.xlsx')"
   ]
  },
  {
   "cell_type": "markdown",
   "id": "ee1687f1",
   "metadata": {},
   "source": [
    "Etapa 2: Análise Exploratória e Tratamento dos Dados"
   ]
  },
  {
   "cell_type": "code",
   "execution_count": null,
   "id": "c8b9b05c",
   "metadata": {},
   "outputs": [
    {
     "data": {
      "text/plain": [
       "(10476, 17)"
      ]
     },
     "execution_count": 4,
     "metadata": {},
     "output_type": "execute_result"
    }
   ],
   "source": [
    "# Verificando a quantidade de registros e rótulos do df\n",
    "df.shape"
   ]
  },
  {
   "cell_type": "code",
   "execution_count": 5,
   "id": "f193e5b0",
   "metadata": {},
   "outputs": [
    {
     "data": {
      "text/html": [
       "<div>\n",
       "<style scoped>\n",
       "    .dataframe tbody tr th:only-of-type {\n",
       "        vertical-align: middle;\n",
       "    }\n",
       "\n",
       "    .dataframe tbody tr th {\n",
       "        vertical-align: top;\n",
       "    }\n",
       "\n",
       "    .dataframe thead th {\n",
       "        text-align: right;\n",
       "    }\n",
       "</style>\n",
       "<table border=\"1\" class=\"dataframe\">\n",
       "  <thead>\n",
       "    <tr style=\"text-align: right;\">\n",
       "      <th></th>\n",
       "      <th>CODIGO_CLIENTE</th>\n",
       "      <th>UF</th>\n",
       "      <th>IDADE</th>\n",
       "      <th>ESCOLARIDADE</th>\n",
       "      <th>ESTADO_CIVIL</th>\n",
       "      <th>QT_FILHOS</th>\n",
       "      <th>CASA_PROPRIA</th>\n",
       "      <th>QT_IMOVEIS</th>\n",
       "      <th>VL_IMOVEIS</th>\n",
       "      <th>OUTRA_RENDA</th>\n",
       "      <th>OUTRA_RENDA_VALOR</th>\n",
       "      <th>TEMPO_ULTIMO_EMPREGO_MESES</th>\n",
       "      <th>TRABALHANDO_ATUALMENTE</th>\n",
       "      <th>ULTIMO_SALARIO</th>\n",
       "      <th>QT_CARROS</th>\n",
       "      <th>VALOR_TABELA_CARROS</th>\n",
       "      <th>SCORE</th>\n",
       "    </tr>\n",
       "  </thead>\n",
       "  <tbody>\n",
       "    <tr>\n",
       "      <th>0</th>\n",
       "      <td>1</td>\n",
       "      <td>SP</td>\n",
       "      <td>19</td>\n",
       "      <td>Superior Cursando</td>\n",
       "      <td>Solteiro</td>\n",
       "      <td>0</td>\n",
       "      <td>Não</td>\n",
       "      <td>0</td>\n",
       "      <td>0</td>\n",
       "      <td>Não</td>\n",
       "      <td>0</td>\n",
       "      <td>8</td>\n",
       "      <td>Sim</td>\n",
       "      <td>1800</td>\n",
       "      <td>0</td>\n",
       "      <td>0</td>\n",
       "      <td>12.000000</td>\n",
       "    </tr>\n",
       "    <tr>\n",
       "      <th>1</th>\n",
       "      <td>2</td>\n",
       "      <td>MG</td>\n",
       "      <td>23</td>\n",
       "      <td>Superior Completo</td>\n",
       "      <td>Solteiro</td>\n",
       "      <td>1</td>\n",
       "      <td>Não</td>\n",
       "      <td>0</td>\n",
       "      <td>0</td>\n",
       "      <td>Não</td>\n",
       "      <td>0</td>\n",
       "      <td>9</td>\n",
       "      <td>Não</td>\n",
       "      <td>4800</td>\n",
       "      <td>1</td>\n",
       "      <td>50000</td>\n",
       "      <td>18.000000</td>\n",
       "    </tr>\n",
       "    <tr>\n",
       "      <th>2</th>\n",
       "      <td>3</td>\n",
       "      <td>SC</td>\n",
       "      <td>25</td>\n",
       "      <td>Segundo Grau Completo</td>\n",
       "      <td>Casado</td>\n",
       "      <td>0</td>\n",
       "      <td>Sim</td>\n",
       "      <td>1</td>\n",
       "      <td>220000</td>\n",
       "      <td>Não</td>\n",
       "      <td>0</td>\n",
       "      <td>18</td>\n",
       "      <td>Sim</td>\n",
       "      <td>2200</td>\n",
       "      <td>2</td>\n",
       "      <td>30000</td>\n",
       "      <td>23.000000</td>\n",
       "    </tr>\n",
       "    <tr>\n",
       "      <th>3</th>\n",
       "      <td>4</td>\n",
       "      <td>PR</td>\n",
       "      <td>27</td>\n",
       "      <td>Superior Cursando</td>\n",
       "      <td>Casado</td>\n",
       "      <td>1</td>\n",
       "      <td>Sim</td>\n",
       "      <td>0</td>\n",
       "      <td>0</td>\n",
       "      <td>Não</td>\n",
       "      <td>0</td>\n",
       "      <td>22</td>\n",
       "      <td>Não</td>\n",
       "      <td>3900</td>\n",
       "      <td>0</td>\n",
       "      <td>0</td>\n",
       "      <td>28.666667</td>\n",
       "    </tr>\n",
       "    <tr>\n",
       "      <th>4</th>\n",
       "      <td>5</td>\n",
       "      <td>RJ</td>\n",
       "      <td>28</td>\n",
       "      <td>Superior Completo</td>\n",
       "      <td>Divorciado</td>\n",
       "      <td>2</td>\n",
       "      <td>Não</td>\n",
       "      <td>1</td>\n",
       "      <td>370000</td>\n",
       "      <td>Não</td>\n",
       "      <td>0</td>\n",
       "      <td>30</td>\n",
       "      <td>Sim</td>\n",
       "      <td>NaN</td>\n",
       "      <td>1</td>\n",
       "      <td>35000</td>\n",
       "      <td>34.166667</td>\n",
       "    </tr>\n",
       "  </tbody>\n",
       "</table>\n",
       "</div>"
      ],
      "text/plain": [
       "   CODIGO_CLIENTE  UF  IDADE           ESCOLARIDADE ESTADO_CIVIL  QT_FILHOS  \\\n",
       "0               1  SP     19      Superior Cursando     Solteiro          0   \n",
       "1               2  MG     23      Superior Completo     Solteiro          1   \n",
       "2               3  SC     25  Segundo Grau Completo       Casado          0   \n",
       "3               4  PR     27      Superior Cursando       Casado          1   \n",
       "4               5  RJ     28      Superior Completo   Divorciado          2   \n",
       "\n",
       "  CASA_PROPRIA  QT_IMOVEIS  VL_IMOVEIS OUTRA_RENDA  OUTRA_RENDA_VALOR  \\\n",
       "0          Não           0           0         Não                  0   \n",
       "1          Não           0           0         Não                  0   \n",
       "2          Sim           1      220000         Não                  0   \n",
       "3          Sim           0           0         Não                  0   \n",
       "4          Não           1      370000         Não                  0   \n",
       "\n",
       "   TEMPO_ULTIMO_EMPREGO_MESES TRABALHANDO_ATUALMENTE ULTIMO_SALARIO  \\\n",
       "0                           8                    Sim           1800   \n",
       "1                           9                    Não           4800   \n",
       "2                          18                    Sim           2200   \n",
       "3                          22                    Não           3900   \n",
       "4                          30                    Sim            NaN   \n",
       "\n",
       "   QT_CARROS  VALOR_TABELA_CARROS      SCORE  \n",
       "0          0                    0  12.000000  \n",
       "1          1                50000  18.000000  \n",
       "2          2                30000  23.000000  \n",
       "3          0                    0  28.666667  \n",
       "4          1                35000  34.166667  "
      ]
     },
     "execution_count": 5,
     "metadata": {},
     "output_type": "execute_result"
    }
   ],
   "source": [
    "# Vendo as primeiras linhas do df\n",
    "df.head()"
   ]
  },
  {
   "cell_type": "code",
   "execution_count": 6,
   "id": "ea2c3239",
   "metadata": {},
   "outputs": [
    {
     "data": {
      "text/html": [
       "<div>\n",
       "<style scoped>\n",
       "    .dataframe tbody tr th:only-of-type {\n",
       "        vertical-align: middle;\n",
       "    }\n",
       "\n",
       "    .dataframe tbody tr th {\n",
       "        vertical-align: top;\n",
       "    }\n",
       "\n",
       "    .dataframe thead th {\n",
       "        text-align: right;\n",
       "    }\n",
       "</style>\n",
       "<table border=\"1\" class=\"dataframe\">\n",
       "  <thead>\n",
       "    <tr style=\"text-align: right;\">\n",
       "      <th></th>\n",
       "      <th>CODIGO_CLIENTE</th>\n",
       "      <th>UF</th>\n",
       "      <th>IDADE</th>\n",
       "      <th>ESCOLARIDADE</th>\n",
       "      <th>ESTADO_CIVIL</th>\n",
       "      <th>QT_FILHOS</th>\n",
       "      <th>CASA_PROPRIA</th>\n",
       "      <th>QT_IMOVEIS</th>\n",
       "      <th>VL_IMOVEIS</th>\n",
       "      <th>OUTRA_RENDA</th>\n",
       "      <th>OUTRA_RENDA_VALOR</th>\n",
       "      <th>TEMPO_ULTIMO_EMPREGO_MESES</th>\n",
       "      <th>TRABALHANDO_ATUALMENTE</th>\n",
       "      <th>ULTIMO_SALARIO</th>\n",
       "      <th>QT_CARROS</th>\n",
       "      <th>VALOR_TABELA_CARROS</th>\n",
       "      <th>SCORE</th>\n",
       "    </tr>\n",
       "  </thead>\n",
       "  <tbody>\n",
       "    <tr>\n",
       "      <th>10471</th>\n",
       "      <td>10472</td>\n",
       "      <td>PR</td>\n",
       "      <td>51</td>\n",
       "      <td>Superior Completo</td>\n",
       "      <td>Solteiro</td>\n",
       "      <td>1</td>\n",
       "      <td>Não</td>\n",
       "      <td>0</td>\n",
       "      <td>0</td>\n",
       "      <td>Não</td>\n",
       "      <td>0</td>\n",
       "      <td>9</td>\n",
       "      <td>Não</td>\n",
       "      <td>4800</td>\n",
       "      <td>1</td>\n",
       "      <td>50000</td>\n",
       "      <td>18.000000</td>\n",
       "    </tr>\n",
       "    <tr>\n",
       "      <th>10472</th>\n",
       "      <td>10473</td>\n",
       "      <td>SP</td>\n",
       "      <td>48</td>\n",
       "      <td>Segundo Grau Completo</td>\n",
       "      <td>Casado</td>\n",
       "      <td>0</td>\n",
       "      <td>Sim</td>\n",
       "      <td>1</td>\n",
       "      <td>220000</td>\n",
       "      <td>Não</td>\n",
       "      <td>0</td>\n",
       "      <td>18</td>\n",
       "      <td>Sim</td>\n",
       "      <td>2200</td>\n",
       "      <td>2</td>\n",
       "      <td>30000</td>\n",
       "      <td>23.000000</td>\n",
       "    </tr>\n",
       "    <tr>\n",
       "      <th>10473</th>\n",
       "      <td>10474</td>\n",
       "      <td>RJ</td>\n",
       "      <td>51</td>\n",
       "      <td>Superior Cursando</td>\n",
       "      <td>Casado</td>\n",
       "      <td>1</td>\n",
       "      <td>Sim</td>\n",
       "      <td>0</td>\n",
       "      <td>0</td>\n",
       "      <td>Não</td>\n",
       "      <td>0</td>\n",
       "      <td>22</td>\n",
       "      <td>Não</td>\n",
       "      <td>3900</td>\n",
       "      <td>0</td>\n",
       "      <td>0</td>\n",
       "      <td>28.666667</td>\n",
       "    </tr>\n",
       "    <tr>\n",
       "      <th>10474</th>\n",
       "      <td>10475</td>\n",
       "      <td>RJ</td>\n",
       "      <td>48</td>\n",
       "      <td>Superior Completo</td>\n",
       "      <td>Divorciado</td>\n",
       "      <td>2</td>\n",
       "      <td>Não</td>\n",
       "      <td>1</td>\n",
       "      <td>370000</td>\n",
       "      <td>Não</td>\n",
       "      <td>0</td>\n",
       "      <td>30</td>\n",
       "      <td>Sim</td>\n",
       "      <td>NaN</td>\n",
       "      <td>1</td>\n",
       "      <td>35000</td>\n",
       "      <td>34.166667</td>\n",
       "    </tr>\n",
       "    <tr>\n",
       "      <th>10475</th>\n",
       "      <td>10476</td>\n",
       "      <td>PR</td>\n",
       "      <td>51</td>\n",
       "      <td>Segundo Grau Completo</td>\n",
       "      <td>Divorciado</td>\n",
       "      <td>0</td>\n",
       "      <td>Não</td>\n",
       "      <td>0</td>\n",
       "      <td>0</td>\n",
       "      <td>Não</td>\n",
       "      <td>0</td>\n",
       "      <td>14</td>\n",
       "      <td>Sim</td>\n",
       "      <td>3100</td>\n",
       "      <td>2</td>\n",
       "      <td>40000</td>\n",
       "      <td>39.666667</td>\n",
       "    </tr>\n",
       "  </tbody>\n",
       "</table>\n",
       "</div>"
      ],
      "text/plain": [
       "       CODIGO_CLIENTE  UF  IDADE           ESCOLARIDADE ESTADO_CIVIL  \\\n",
       "10471           10472  PR     51      Superior Completo     Solteiro   \n",
       "10472           10473  SP     48  Segundo Grau Completo       Casado   \n",
       "10473           10474  RJ     51      Superior Cursando       Casado   \n",
       "10474           10475  RJ     48      Superior Completo   Divorciado   \n",
       "10475           10476  PR     51  Segundo Grau Completo   Divorciado   \n",
       "\n",
       "       QT_FILHOS CASA_PROPRIA  QT_IMOVEIS  VL_IMOVEIS OUTRA_RENDA  \\\n",
       "10471          1          Não           0           0         Não   \n",
       "10472          0          Sim           1      220000         Não   \n",
       "10473          1          Sim           0           0         Não   \n",
       "10474          2          Não           1      370000         Não   \n",
       "10475          0          Não           0           0         Não   \n",
       "\n",
       "       OUTRA_RENDA_VALOR  TEMPO_ULTIMO_EMPREGO_MESES TRABALHANDO_ATUALMENTE  \\\n",
       "10471                  0                           9                    Não   \n",
       "10472                  0                          18                    Sim   \n",
       "10473                  0                          22                    Não   \n",
       "10474                  0                          30                    Sim   \n",
       "10475                  0                          14                    Sim   \n",
       "\n",
       "      ULTIMO_SALARIO  QT_CARROS  VALOR_TABELA_CARROS      SCORE  \n",
       "10471           4800          1                50000  18.000000  \n",
       "10472           2200          2                30000  23.000000  \n",
       "10473           3900          0                    0  28.666667  \n",
       "10474            NaN          1                35000  34.166667  \n",
       "10475           3100          2                40000  39.666667  "
      ]
     },
     "execution_count": 6,
     "metadata": {},
     "output_type": "execute_result"
    }
   ],
   "source": [
    "# Como o conjunto de dados é no formato de Excel, é importante verificarmos a cauda do df também\n",
    "df.tail()"
   ]
  },
  {
   "cell_type": "code",
   "execution_count": null,
   "id": "9f9cacaf",
   "metadata": {},
   "outputs": [
    {
     "name": "stdout",
     "output_type": "stream",
     "text": [
      "<class 'pandas.core.frame.DataFrame'>\n",
      "RangeIndex: 10476 entries, 0 to 10475\n",
      "Data columns (total 17 columns):\n",
      " #   Column                      Non-Null Count  Dtype  \n",
      "---  ------                      --------------  -----  \n",
      " 0   CODIGO_CLIENTE              10476 non-null  int64  \n",
      " 1   UF                          10476 non-null  object \n",
      " 2   IDADE                       10476 non-null  int64  \n",
      " 3   ESCOLARIDADE                10476 non-null  object \n",
      " 4   ESTADO_CIVIL                10476 non-null  object \n",
      " 5   QT_FILHOS                   10476 non-null  int64  \n",
      " 6   CASA_PROPRIA                10476 non-null  object \n",
      " 7   QT_IMOVEIS                  10476 non-null  int64  \n",
      " 8   VL_IMOVEIS                  10476 non-null  int64  \n",
      " 9   OUTRA_RENDA                 10476 non-null  object \n",
      " 10  OUTRA_RENDA_VALOR           10476 non-null  int64  \n",
      " 11  TEMPO_ULTIMO_EMPREGO_MESES  10476 non-null  int64  \n",
      " 12  TRABALHANDO_ATUALMENTE      10476 non-null  object \n",
      " 13  ULTIMO_SALARIO              10474 non-null  object \n",
      " 14  QT_CARROS                   10476 non-null  int64  \n",
      " 15  VALOR_TABELA_CARROS         10476 non-null  int64  \n",
      " 16  SCORE                       10476 non-null  float64\n",
      "dtypes: float64(1), int64(9), object(7)\n",
      "memory usage: 1.4+ MB\n"
     ]
    }
   ],
   "source": [
    "# Verificando os tipos de dados das colunas, e analisando as transformações necessárias\n",
    "df.info()"
   ]
  },
  {
   "cell_type": "code",
   "execution_count": 8,
   "id": "396f84cf",
   "metadata": {},
   "outputs": [],
   "source": [
    "# Não iremos utilizar a coluna 'Código Cliente', então iremos removê-la\n",
    "df.drop('CODIGO_CLIENTE', axis=1, inplace=True)"
   ]
  },
  {
   "cell_type": "code",
   "execution_count": 10,
   "id": "b374d9a8",
   "metadata": {},
   "outputs": [
    {
     "data": {
      "text/plain": [
       "ULTIMO_SALARIO\n",
       "1800         846\n",
       "2200         792\n",
       "3100         792\n",
       "3900         792\n",
       "4500         468\n",
       "4800         792\n",
       "5300         522\n",
       "6100         522\n",
       "6800         611\n",
       "9000         522\n",
       "9800         468\n",
       "11500        790\n",
       "13000        522\n",
       "15000        522\n",
       "17500        522\n",
       "18300        522\n",
       "22000        468\n",
       "SEM DADOS      1\n",
       "dtype: int64"
      ]
     },
     "execution_count": 10,
     "metadata": {},
     "output_type": "execute_result"
    }
   ],
   "source": [
    "# Na etapa df.info(), vemos que a coluna 'Ultimo_salario'os dados são do tipo object. Vamos investigar o motivo\n",
    "df.groupby('ULTIMO_SALARIO').size()\n",
    "\n",
    "# Após a execução, vemos que é devido a existência dos valores \"SEM DADOS\". Vamos tratar isso em seguida"
   ]
  },
  {
   "cell_type": "code",
   "execution_count": 11,
   "id": "5dd8e150",
   "metadata": {},
   "outputs": [],
   "source": [
    "# Para não perdermos os registros que estão com esse valor \"SEM DADOS\", inicialmente vamos tornar estes dados com valor nulo\n",
    "df.replace('SEM DADOS', np.nan, inplace=True)"
   ]
  },
  {
   "cell_type": "code",
   "execution_count": 13,
   "id": "849573bb",
   "metadata": {},
   "outputs": [],
   "source": [
    "# Agora, vamos converter a coluna para o tipo float\n",
    "df['ULTIMO_SALARIO'] = df['ULTIMO_SALARIO'].astype(np.float64)"
   ]
  },
  {
   "cell_type": "code",
   "execution_count": null,
   "id": "a1741a98",
   "metadata": {},
   "outputs": [
    {
     "data": {
      "text/plain": [
       "UF                            0\n",
       "IDADE                         0\n",
       "ESCOLARIDADE                  0\n",
       "ESTADO_CIVIL                  0\n",
       "QT_FILHOS                     0\n",
       "CASA_PROPRIA                  0\n",
       "QT_IMOVEIS                    0\n",
       "VL_IMOVEIS                    0\n",
       "OUTRA_RENDA                   0\n",
       "OUTRA_RENDA_VALOR             0\n",
       "TEMPO_ULTIMO_EMPREGO_MESES    0\n",
       "TRABALHANDO_ATUALMENTE        0\n",
       "ULTIMO_SALARIO                3\n",
       "QT_CARROS                     0\n",
       "VALOR_TABELA_CARROS           0\n",
       "SCORE                         0\n",
       "dtype: int64"
      ]
     },
     "execution_count": 15,
     "metadata": {},
     "output_type": "execute_result"
    }
   ],
   "source": [
    "# Agora, note que há 3 valores que são nulos nessa coluna. Vamos tratá-los em seguida.\n",
    "df.isnull().sum()"
   ]
  },
  {
   "cell_type": "code",
   "execution_count": 17,
   "id": "176a1428",
   "metadata": {},
   "outputs": [],
   "source": [
    "# Vamos utilizar a mediana dos valores da coluna 'ULTIMO_SALARIO' para substituir os nulos\n",
    "df['ULTIMO_SALARIO'] = df['ULTIMO_SALARIO'].fillna((df['ULTIMO_SALARIO'].median()))\n"
   ]
  },
  {
   "cell_type": "code",
   "execution_count": 18,
   "id": "7558a2ba",
   "metadata": {},
   "outputs": [
    {
     "data": {
      "text/plain": [
       "UF                            0\n",
       "IDADE                         0\n",
       "ESCOLARIDADE                  0\n",
       "ESTADO_CIVIL                  0\n",
       "QT_FILHOS                     0\n",
       "CASA_PROPRIA                  0\n",
       "QT_IMOVEIS                    0\n",
       "VL_IMOVEIS                    0\n",
       "OUTRA_RENDA                   0\n",
       "OUTRA_RENDA_VALOR             0\n",
       "TEMPO_ULTIMO_EMPREGO_MESES    0\n",
       "TRABALHANDO_ATUALMENTE        0\n",
       "ULTIMO_SALARIO                0\n",
       "QT_CARROS                     0\n",
       "VALOR_TABELA_CARROS           0\n",
       "SCORE                         0\n",
       "dtype: int64"
      ]
     },
     "execution_count": 18,
     "metadata": {},
     "output_type": "execute_result"
    }
   ],
   "source": [
    "# Conferindo se não sobraram valores nulos\n",
    "df.isnull().sum()"
   ]
  },
  {
   "cell_type": "code",
   "execution_count": 19,
   "id": "0963aeba",
   "metadata": {},
   "outputs": [
    {
     "name": "stdout",
     "output_type": "stream",
     "text": [
      "<class 'pandas.core.frame.DataFrame'>\n",
      "RangeIndex: 10476 entries, 0 to 10475\n",
      "Data columns (total 16 columns):\n",
      " #   Column                      Non-Null Count  Dtype  \n",
      "---  ------                      --------------  -----  \n",
      " 0   UF                          10476 non-null  object \n",
      " 1   IDADE                       10476 non-null  int64  \n",
      " 2   ESCOLARIDADE                10476 non-null  object \n",
      " 3   ESTADO_CIVIL                10476 non-null  object \n",
      " 4   QT_FILHOS                   10476 non-null  int64  \n",
      " 5   CASA_PROPRIA                10476 non-null  object \n",
      " 6   QT_IMOVEIS                  10476 non-null  int64  \n",
      " 7   VL_IMOVEIS                  10476 non-null  int64  \n",
      " 8   OUTRA_RENDA                 10476 non-null  object \n",
      " 9   OUTRA_RENDA_VALOR           10476 non-null  int64  \n",
      " 10  TEMPO_ULTIMO_EMPREGO_MESES  10476 non-null  int64  \n",
      " 11  TRABALHANDO_ATUALMENTE      10476 non-null  object \n",
      " 12  ULTIMO_SALARIO              10476 non-null  float64\n",
      " 13  QT_CARROS                   10476 non-null  int64  \n",
      " 14  VALOR_TABELA_CARROS         10476 non-null  int64  \n",
      " 15  SCORE                       10476 non-null  float64\n",
      "dtypes: float64(2), int64(8), object(6)\n",
      "memory usage: 1.3+ MB\n"
     ]
    }
   ],
   "source": [
    "# Reavaliando as variáveis\n",
    "df.info()"
   ]
  },
  {
   "cell_type": "code",
   "execution_count": 20,
   "id": "4a0d10c0",
   "metadata": {},
   "outputs": [
    {
     "data": {
      "text/html": [
       "<div>\n",
       "<style scoped>\n",
       "    .dataframe tbody tr th:only-of-type {\n",
       "        vertical-align: middle;\n",
       "    }\n",
       "\n",
       "    .dataframe tbody tr th {\n",
       "        vertical-align: top;\n",
       "    }\n",
       "\n",
       "    .dataframe thead th {\n",
       "        text-align: right;\n",
       "    }\n",
       "</style>\n",
       "<table border=\"1\" class=\"dataframe\">\n",
       "  <thead>\n",
       "    <tr style=\"text-align: right;\">\n",
       "      <th></th>\n",
       "      <th>IDADE</th>\n",
       "      <th>QT_FILHOS</th>\n",
       "      <th>QT_IMOVEIS</th>\n",
       "      <th>VL_IMOVEIS</th>\n",
       "      <th>OUTRA_RENDA_VALOR</th>\n",
       "      <th>TEMPO_ULTIMO_EMPREGO_MESES</th>\n",
       "      <th>ULTIMO_SALARIO</th>\n",
       "      <th>QT_CARROS</th>\n",
       "      <th>VALOR_TABELA_CARROS</th>\n",
       "      <th>SCORE</th>\n",
       "    </tr>\n",
       "  </thead>\n",
       "  <tbody>\n",
       "    <tr>\n",
       "      <th>count</th>\n",
       "      <td>10476.000000</td>\n",
       "      <td>10476.000000</td>\n",
       "      <td>10476.000000</td>\n",
       "      <td>10476.000000</td>\n",
       "      <td>10476.000000</td>\n",
       "      <td>10476.000000</td>\n",
       "      <td>10476.000000</td>\n",
       "      <td>10476.000000</td>\n",
       "      <td>10476.000000</td>\n",
       "      <td>10476.000000</td>\n",
       "    </tr>\n",
       "    <tr>\n",
       "      <th>mean</th>\n",
       "      <td>41.054124</td>\n",
       "      <td>1.122566</td>\n",
       "      <td>0.847079</td>\n",
       "      <td>238453.608247</td>\n",
       "      <td>641.237113</td>\n",
       "      <td>43.070447</td>\n",
       "      <td>8286.531119</td>\n",
       "      <td>0.936426</td>\n",
       "      <td>40996.563574</td>\n",
       "      <td>51.058706</td>\n",
       "    </tr>\n",
       "    <tr>\n",
       "      <th>std</th>\n",
       "      <td>13.878162</td>\n",
       "      <td>1.113537</td>\n",
       "      <td>0.957374</td>\n",
       "      <td>265843.934416</td>\n",
       "      <td>1295.978195</td>\n",
       "      <td>40.851521</td>\n",
       "      <td>5826.589775</td>\n",
       "      <td>0.806635</td>\n",
       "      <td>47404.214062</td>\n",
       "      <td>27.306340</td>\n",
       "    </tr>\n",
       "    <tr>\n",
       "      <th>min</th>\n",
       "      <td>19.000000</td>\n",
       "      <td>0.000000</td>\n",
       "      <td>0.000000</td>\n",
       "      <td>0.000000</td>\n",
       "      <td>0.000000</td>\n",
       "      <td>8.000000</td>\n",
       "      <td>1800.000000</td>\n",
       "      <td>0.000000</td>\n",
       "      <td>0.000000</td>\n",
       "      <td>12.000000</td>\n",
       "    </tr>\n",
       "    <tr>\n",
       "      <th>25%</th>\n",
       "      <td>28.000000</td>\n",
       "      <td>0.000000</td>\n",
       "      <td>0.000000</td>\n",
       "      <td>0.000000</td>\n",
       "      <td>0.000000</td>\n",
       "      <td>14.000000</td>\n",
       "      <td>3900.000000</td>\n",
       "      <td>0.000000</td>\n",
       "      <td>0.000000</td>\n",
       "      <td>28.666667</td>\n",
       "    </tr>\n",
       "    <tr>\n",
       "      <th>50%</th>\n",
       "      <td>42.000000</td>\n",
       "      <td>1.000000</td>\n",
       "      <td>1.000000</td>\n",
       "      <td>185000.000000</td>\n",
       "      <td>0.000000</td>\n",
       "      <td>22.000000</td>\n",
       "      <td>6100.000000</td>\n",
       "      <td>1.000000</td>\n",
       "      <td>35000.000000</td>\n",
       "      <td>45.166667</td>\n",
       "    </tr>\n",
       "    <tr>\n",
       "      <th>75%</th>\n",
       "      <td>53.000000</td>\n",
       "      <td>2.000000</td>\n",
       "      <td>1.000000</td>\n",
       "      <td>370000.000000</td>\n",
       "      <td>0.000000</td>\n",
       "      <td>75.000000</td>\n",
       "      <td>11500.000000</td>\n",
       "      <td>2.000000</td>\n",
       "      <td>50000.000000</td>\n",
       "      <td>72.666667</td>\n",
       "    </tr>\n",
       "    <tr>\n",
       "      <th>max</th>\n",
       "      <td>65.000000</td>\n",
       "      <td>42.000000</td>\n",
       "      <td>3.000000</td>\n",
       "      <td>900000.000000</td>\n",
       "      <td>4000.000000</td>\n",
       "      <td>150.000000</td>\n",
       "      <td>22000.000000</td>\n",
       "      <td>2.000000</td>\n",
       "      <td>180000.000000</td>\n",
       "      <td>98.000000</td>\n",
       "    </tr>\n",
       "  </tbody>\n",
       "</table>\n",
       "</div>"
      ],
      "text/plain": [
       "              IDADE     QT_FILHOS    QT_IMOVEIS     VL_IMOVEIS  \\\n",
       "count  10476.000000  10476.000000  10476.000000   10476.000000   \n",
       "mean      41.054124      1.122566      0.847079  238453.608247   \n",
       "std       13.878162      1.113537      0.957374  265843.934416   \n",
       "min       19.000000      0.000000      0.000000       0.000000   \n",
       "25%       28.000000      0.000000      0.000000       0.000000   \n",
       "50%       42.000000      1.000000      1.000000  185000.000000   \n",
       "75%       53.000000      2.000000      1.000000  370000.000000   \n",
       "max       65.000000     42.000000      3.000000  900000.000000   \n",
       "\n",
       "       OUTRA_RENDA_VALOR  TEMPO_ULTIMO_EMPREGO_MESES  ULTIMO_SALARIO  \\\n",
       "count       10476.000000                10476.000000    10476.000000   \n",
       "mean          641.237113                   43.070447     8286.531119   \n",
       "std          1295.978195                   40.851521     5826.589775   \n",
       "min             0.000000                    8.000000     1800.000000   \n",
       "25%             0.000000                   14.000000     3900.000000   \n",
       "50%             0.000000                   22.000000     6100.000000   \n",
       "75%             0.000000                   75.000000    11500.000000   \n",
       "max          4000.000000                  150.000000    22000.000000   \n",
       "\n",
       "          QT_CARROS  VALOR_TABELA_CARROS         SCORE  \n",
       "count  10476.000000         10476.000000  10476.000000  \n",
       "mean       0.936426         40996.563574     51.058706  \n",
       "std        0.806635         47404.214062     27.306340  \n",
       "min        0.000000             0.000000     12.000000  \n",
       "25%        0.000000             0.000000     28.666667  \n",
       "50%        1.000000         35000.000000     45.166667  \n",
       "75%        2.000000         50000.000000     72.666667  \n",
       "max        2.000000        180000.000000     98.000000  "
      ]
     },
     "execution_count": 20,
     "metadata": {},
     "output_type": "execute_result"
    }
   ],
   "source": [
    "# Avaliando as medidas estatísticas básicas\n",
    "df.describe()"
   ]
  },
  {
   "cell_type": "code",
   "execution_count": 22,
   "id": "00447cef",
   "metadata": {},
   "outputs": [
    {
     "name": "stdout",
     "output_type": "stream",
     "text": [
      "IDADE : int64\n",
      "QT_FILHOS : int64\n",
      "QT_IMOVEIS : int64\n",
      "VL_IMOVEIS : int64\n",
      "OUTRA_RENDA_VALOR : int64\n",
      "TEMPO_ULTIMO_EMPREGO_MESES : int64\n",
      "ULTIMO_SALARIO : float64\n",
      "QT_CARROS : int64\n",
      "VALOR_TABELA_CARROS : int64\n",
      "SCORE : float64\n"
     ]
    }
   ],
   "source": [
    "# Avaliando outliers de colunas numéricas\n",
    "\n",
    "# Aqui, iremos aplicar uma técnica de criar uma lista com as colunas numéricas, para plotarmos os gráficos de uma só vez\n",
    "\n",
    "variaveis_numericas = []\n",
    "\n",
    "for i in df.columns[0:16].to_list():\n",
    "    if df.dtypes[i] == 'int64' or df.dtypes[i] == 'float64':\n",
    "        print(i, ':', df.dtypes[i])\n",
    "        variaveis_numericas.append(i)"
   ]
  },
  {
   "cell_type": "code",
   "execution_count": 23,
   "id": "713f225f",
   "metadata": {},
   "outputs": [
    {
     "data": {
      "text/plain": [
       "['IDADE',\n",
       " 'QT_FILHOS',\n",
       " 'QT_IMOVEIS',\n",
       " 'VL_IMOVEIS',\n",
       " 'OUTRA_RENDA_VALOR',\n",
       " 'TEMPO_ULTIMO_EMPREGO_MESES',\n",
       " 'ULTIMO_SALARIO',\n",
       " 'QT_CARROS',\n",
       " 'VALOR_TABELA_CARROS',\n",
       " 'SCORE']"
      ]
     },
     "execution_count": 23,
     "metadata": {},
     "output_type": "execute_result"
    }
   ],
   "source": [
    "# Verificando a lista com as colunas que criamos acima\n",
    "variaveis_numericas"
   ]
  },
  {
   "cell_type": "code",
   "execution_count": 28,
   "id": "66a55070",
   "metadata": {},
   "outputs": [
    {
     "data": {
      "image/png": "[encoded data removed]",
      "text/plain": [
       "<Figure size 1080x864 with 10 Axes>"
      ]
     },
     "metadata": {
      "needs_background": "light"
     },
     "output_type": "display_data"
    }
   ],
   "source": [
    "# Agora, vamos realizar a plotagem dos boxplots de uma vez só, com o objetivo de identificarmos outliers\n",
    "\n",
    "# Tamanho de exibição dos gráficos\n",
    "plt.rcParams[\"figure.figsize\"] = [15.00, 12.00]\n",
    "plt.rcParams[\"figure.autolayout\"] = True\n",
    "\n",
    "# Disposição dos gráficos na tela\n",
    "f, axes = plt.subplots(2, 5) # 2 linhas e 5 colunas\n",
    "\n",
    "linha = 0 \n",
    "coluna = 0\n",
    "\n",
    "for i in variaveis_numericas:\n",
    "    sns.boxplot(data=df, y=i, ax=axes[linha][coluna])\n",
    "    coluna += 1\n",
    "    if coluna == 5:\n",
    "        linha += 1\n",
    "        coluna = 0\n",
    "\n",
    "plt.show()\n"
   ]
  },
  {
   "cell_type": "code",
   "execution_count": 29,
   "id": "9d3aad27",
   "metadata": {},
   "outputs": [
    {
     "data": {
      "text/html": [
       "<div>\n",
       "<style scoped>\n",
       "    .dataframe tbody tr th:only-of-type {\n",
       "        vertical-align: middle;\n",
       "    }\n",
       "\n",
       "    .dataframe tbody tr th {\n",
       "        vertical-align: top;\n",
       "    }\n",
       "\n",
       "    .dataframe thead th {\n",
       "        text-align: right;\n",
       "    }\n",
       "</style>\n",
       "<table border=\"1\" class=\"dataframe\">\n",
       "  <thead>\n",
       "    <tr style=\"text-align: right;\">\n",
       "      <th></th>\n",
       "      <th>UF</th>\n",
       "      <th>IDADE</th>\n",
       "      <th>ESCOLARIDADE</th>\n",
       "      <th>ESTADO_CIVIL</th>\n",
       "      <th>QT_FILHOS</th>\n",
       "      <th>CASA_PROPRIA</th>\n",
       "      <th>QT_IMOVEIS</th>\n",
       "      <th>VL_IMOVEIS</th>\n",
       "      <th>OUTRA_RENDA</th>\n",
       "      <th>OUTRA_RENDA_VALOR</th>\n",
       "      <th>TEMPO_ULTIMO_EMPREGO_MESES</th>\n",
       "      <th>TRABALHANDO_ATUALMENTE</th>\n",
       "      <th>ULTIMO_SALARIO</th>\n",
       "      <th>QT_CARROS</th>\n",
       "      <th>VALOR_TABELA_CARROS</th>\n",
       "      <th>SCORE</th>\n",
       "    </tr>\n",
       "  </thead>\n",
       "  <tbody>\n",
       "    <tr>\n",
       "      <th>27</th>\n",
       "      <td>SP</td>\n",
       "      <td>48</td>\n",
       "      <td>Superior Completo</td>\n",
       "      <td>Divorciado</td>\n",
       "      <td>38</td>\n",
       "      <td>Sim</td>\n",
       "      <td>2</td>\n",
       "      <td>600000</td>\n",
       "      <td>Não</td>\n",
       "      <td>0</td>\n",
       "      <td>15</td>\n",
       "      <td>Sim</td>\n",
       "      <td>15000.0</td>\n",
       "      <td>1</td>\n",
       "      <td>70000</td>\n",
       "      <td>67.166667</td>\n",
       "    </tr>\n",
       "    <tr>\n",
       "      <th>10455</th>\n",
       "      <td>SP</td>\n",
       "      <td>45</td>\n",
       "      <td>Segundo Grau Completo</td>\n",
       "      <td>Casado</td>\n",
       "      <td>42</td>\n",
       "      <td>Sim</td>\n",
       "      <td>1</td>\n",
       "      <td>220000</td>\n",
       "      <td>Não</td>\n",
       "      <td>0</td>\n",
       "      <td>18</td>\n",
       "      <td>Sim</td>\n",
       "      <td>2200.0</td>\n",
       "      <td>2</td>\n",
       "      <td>30000</td>\n",
       "      <td>23.000000</td>\n",
       "    </tr>\n",
       "  </tbody>\n",
       "</table>\n",
       "</div>"
      ],
      "text/plain": [
       "       UF  IDADE           ESCOLARIDADE ESTADO_CIVIL  QT_FILHOS CASA_PROPRIA  \\\n",
       "27     SP     48      Superior Completo   Divorciado         38          Sim   \n",
       "10455  SP     45  Segundo Grau Completo       Casado         42          Sim   \n",
       "\n",
       "       QT_IMOVEIS  VL_IMOVEIS OUTRA_RENDA  OUTRA_RENDA_VALOR  \\\n",
       "27              2      600000         Não                  0   \n",
       "10455           1      220000         Não                  0   \n",
       "\n",
       "       TEMPO_ULTIMO_EMPREGO_MESES TRABALHANDO_ATUALMENTE  ULTIMO_SALARIO  \\\n",
       "27                             15                    Sim         15000.0   \n",
       "10455                          18                    Sim          2200.0   \n",
       "\n",
       "       QT_CARROS  VALOR_TABELA_CARROS      SCORE  \n",
       "27             1                70000  67.166667  \n",
       "10455          2                30000  23.000000  "
      ]
     },
     "execution_count": 29,
     "metadata": {},
     "output_type": "execute_result"
    }
   ],
   "source": [
    "# Avaliando os resultados dos gráficos, vemos que algumas colunas indicam a existência de outliers.\n",
    "# Iremos investigar se os valores de fato são outliers a seguir.\n",
    "\n",
    "# iniciando pela coluna \"qt_filhos\"\n",
    "df.loc[df['QT_FILHOS'] > 4]"
   ]
  },
  {
   "cell_type": "code",
   "execution_count": 30,
   "id": "21a7be05",
   "metadata": {},
   "outputs": [],
   "source": [
    "# Vemos dois registros, que de fato são outliers, afinal, são registrados 38 e 42 filhos.\n",
    "# Vamos excluir estes registros. \n",
    "\n",
    "df.drop(df.loc[df['QT_FILHOS'] > 4].index, inplace=True)"
   ]
  },
  {
   "cell_type": "code",
   "execution_count": null,
   "id": "e9eda5c9",
   "metadata": {},
   "outputs": [
    {
     "data": {
      "text/plain": [
       "OUTRA_RENDA_VALOR\n",
       "0       8350\n",
       "2400     468\n",
       "3000     612\n",
       "3200     522\n",
       "4000     522\n",
       "dtype: int64"
      ]
     },
     "execution_count": 31,
     "metadata": {},
     "output_type": "execute_result"
    }
   ],
   "source": [
    "# A próxima coluna que vamos avaliar os possíveis outliers é a coluna 'outra_renda_valor' \n",
    "df.groupby(['OUTRA_RENDA_VALOR']).size()\n",
    "\n",
    "# Vemos que, apesar da maioria dos registros não apresentarem valores, muitos clientes possuem outra renda, ou seja,\n",
    "# não categorizam outliers"
   ]
  },
  {
   "cell_type": "code",
   "execution_count": 33,
   "id": "c8a8cdd5",
   "metadata": {},
   "outputs": [
    {
     "data": {
      "text/plain": [
       "VALOR_TABELA_CARROS\n",
       "0         3762\n",
       "28000      468\n",
       "30000      791\n",
       "35000      792\n",
       "40000      792\n",
       "48000      522\n",
       "50000     1314\n",
       "70000      521\n",
       "80000      522\n",
       "150000     468\n",
       "180000     522\n",
       "dtype: int64"
      ]
     },
     "execution_count": 33,
     "metadata": {},
     "output_type": "execute_result"
    }
   ],
   "source": [
    "# A próxima coluna é a 'valor_tabela_carros' \n",
    "df.groupby(['VALOR_TABELA_CARROS']).size()\n",
    "\n",
    "# Bem como no caso acima, alguns clientes possuem carros mais caros, ou a soma de seus carros levam aos valores altos\n",
    "# Não vamos alterar nada nessa coluna também "
   ]
  },
  {
   "cell_type": "code",
   "execution_count": null,
   "id": "bc14f3d8",
   "metadata": {},
   "outputs": [
    {
     "data": {
      "text/plain": [
       "QT_IMOVEIS\n",
       "0    4680\n",
       "1    3761\n",
       "2     989\n",
       "3    1044\n",
       "dtype: int64"
      ]
     },
     "execution_count": 34,
     "metadata": {},
     "output_type": "execute_result"
    }
   ],
   "source": [
    "# Por fim, a coluna 'qt_imoveis' \n",
    "df.groupby(['QT_IMOVEIS']).size()\n",
    "\n",
    "# Assim como nos casos anteriores, não precisamos alterar, pois os registros não indicam outliers. "
   ]
  },
  {
   "cell_type": "code",
   "execution_count": 35,
   "id": "9d948f27",
   "metadata": {},
   "outputs": [
    {
     "data": {
      "image/png": "[encoded data removed]",
      "text/plain": [
       "<Figure size 1080x864 with 12 Axes>"
      ]
     },
     "metadata": {
      "needs_background": "light"
     },
     "output_type": "display_data"
    }
   ],
   "source": [
    "# Agora, vamos gerar histogramas para verificar distribuição dos dados\n",
    "\n",
    "plt.rcParams[\"figure.figsize\"] = [15.00, 12.00]\n",
    "plt.rcParams[\"figure.autolayout\"] = True\n",
    "\n",
    "f, axes = plt.subplots(4, 3)\n",
    "\n",
    "linha = 0 \n",
    "coluna = 0 \n",
    "\n",
    "for i in variaveis_numericas:\n",
    "    sns.histplot(data=df, x=i, ax=axes[linha][coluna])\n",
    "    coluna += 1\n",
    "    if coluna == 3:\n",
    "        linha += 1\n",
    "        coluna = 0\n",
    "\n",
    "plt.show()"
   ]
  },
  {
   "cell_type": "code",
   "execution_count": 36,
   "id": "9ed98c7c",
   "metadata": {},
   "outputs": [],
   "source": [
    "# Os histogramas indicam que os dados estão bem dispersos. "
   ]
  },
  {
   "cell_type": "code",
   "execution_count": 37,
   "id": "96258a24",
   "metadata": {},
   "outputs": [
    {
     "data": {
      "image/png": "[encoded data removed]",
      "text/plain": [
       "<Figure size 1296x576 with 2 Axes>"
      ]
     },
     "metadata": {
      "needs_background": "light"
     },
     "output_type": "display_data"
    }
   ],
   "source": [
    "# Agora, iremos verificar a correlação entre os dados\n",
    "\n",
    "plt.rcParams[\"figure.figsize\"] = [18,8]\n",
    "ax = sns.heatmap(df.corr(), annot=True)\n"
   ]
  },
  {
   "cell_type": "code",
   "execution_count": 38,
   "id": "ca2d6cbf",
   "metadata": {},
   "outputs": [
    {
     "data": {
      "text/plain": [
       "<seaborn.axisgrid.FacetGrid at 0x2bd8ea9ca60>"
      ]
     },
     "execution_count": 38,
     "metadata": {},
     "output_type": "execute_result"
    },
    {
     "data": {
      "image/png": "[encoded data removed]",
      "text/plain": [
       "<Figure size 360x360 with 1 Axes>"
      ]
     },
     "metadata": {
      "needs_background": "light"
     },
     "output_type": "display_data"
    }
   ],
   "source": [
    "# Avaliando a correlação de algumas variáveis utilizando um gráfico de dispersão\n",
    "sns.lmplot(x='VL_IMOVEIS', y='SCORE', data=df)"
   ]
  },
  {
   "cell_type": "code",
   "execution_count": null,
   "id": "e55c29cd",
   "metadata": {},
   "outputs": [
    {
     "name": "stdout",
     "output_type": "stream",
     "text": [
      "Menor idade: 19\n",
      "Maior idade: 65\n"
     ]
    }
   ],
   "source": [
    "# Agora, vamos aplicar engenharia de atributos e criar a variável de faixa etária\n",
    "# Aqui, vou verificar o maior e menor valor para definir os bins em seguida\n",
    "print(f\"Menor idade: {df['IDADE'].min()}\")\n",
    "print(f\"Maior idade: {df['IDADE'].max()}\")"
   ]
  },
  {
   "cell_type": "code",
   "execution_count": 41,
   "id": "b4e9dc61",
   "metadata": {},
   "outputs": [
    {
     "data": {
      "text/plain": [
       "Até 30          3552\n",
       "Maior que 50    2448\n",
       "41 a 50         2070\n",
       "31 a 40         1270\n",
       "Name: FAIXA ETARIA, dtype: int64"
      ]
     },
     "execution_count": 41,
     "metadata": {},
     "output_type": "execute_result"
    }
   ],
   "source": [
    "# Criando a variável\n",
    "\n",
    "# Definindo o tamanho de cada bin\n",
    "idade_bins = [0, 30, 40, 50, 60]\n",
    "idade_categoria = [\"Até 30\", \"31 a 40\", \"41 a 50\", \"Maior que 50\"]\n",
    "\n",
    "df[\"FAIXA ETARIA\"] = pd.cut(df['IDADE'], idade_bins, labels=idade_categoria)\n",
    "df[\"FAIXA ETARIA\"].value_counts()"
   ]
  },
  {
   "cell_type": "code",
   "execution_count": 44,
   "id": "10b639f0",
   "metadata": {},
   "outputs": [
    {
     "data": {
      "text/plain": [
       "FAIXA ETARIA\n",
       "Até 30          44.762950\n",
       "31 a 40         48.883202\n",
       "41 a 50         51.440177\n",
       "Maior que 50    56.123775\n",
       "Name: SCORE, dtype: float64"
      ]
     },
     "execution_count": 44,
     "metadata": {},
     "output_type": "execute_result"
    }
   ],
   "source": [
    "# Avaliando a média dos scores por faixa etaria\n",
    "df.groupby([\"FAIXA ETARIA\"]).mean()[\"SCORE\"]"
   ]
  },
  {
   "cell_type": "code",
   "execution_count": 45,
   "id": "cc379803",
   "metadata": {},
   "outputs": [
    {
     "name": "stdout",
     "output_type": "stream",
     "text": [
      "UF : object\n",
      "ESCOLARIDADE : object\n",
      "ESTADO_CIVIL : object\n",
      "CASA_PROPRIA : object\n",
      "OUTRA_RENDA : object\n",
      "TRABALHANDO_ATUALMENTE : object\n"
     ]
    }
   ],
   "source": [
    "# Agora, vamos trabalhar com os dados categóricos, visualizando-os assim como os dados numéricos\n",
    "\n",
    "variaveis_categoricas = []\n",
    "\n",
    "for i in df.columns[0:16].to_list():\n",
    "    if df.dtypes[i] == 'object':\n",
    "        print(i, ':', df.dtypes[i])\n",
    "        variaveis_categoricas.append(i)"
   ]
  },
  {
   "cell_type": "code",
   "execution_count": 49,
   "id": "53780242",
   "metadata": {},
   "outputs": [
    {
     "data": {
      "image/png": "[encoded data removed]",
      "text/plain": [
       "<Figure size 1080x864 with 6 Axes>"
      ]
     },
     "metadata": {
      "needs_background": "light"
     },
     "output_type": "display_data"
    }
   ],
   "source": [
    "# Agora vamos plotar os gráficos de barra juntos, como fizemos anteriormente\n",
    "\n",
    "plt.rcParams[\"figure.figsize\"] = [15.00, 12.00]\n",
    "plt.rcParams[\"figure.autolayout\"] = True\n",
    "\n",
    "f, axes = plt.subplots(3, 2)\n",
    "\n",
    "linha = 0 \n",
    "coluna = 0 \n",
    "\n",
    "for i in variaveis_categoricas:\n",
    "    sns.countplot(data=df, x=i, ax=axes[linha][coluna])\n",
    "    coluna += 1\n",
    "    if coluna == 2:\n",
    "        linha += 1\n",
    "        coluna = 0\n",
    "\n",
    "plt.show()"
   ]
  },
  {
   "cell_type": "markdown",
   "id": "76e1bae5",
   "metadata": {},
   "source": [
    "Etapa 3: Pré Processamento dos Dados"
   ]
  },
  {
   "cell_type": "code",
   "execution_count": null,
   "id": "ce4b6ce6",
   "metadata": {},
   "outputs": [],
   "source": [
    "# Vamos fazer o one-hot encoding nas variáveis categóricas, pois o modelo não lê strings\n",
    "# O One-hot encoding converte variáveis categóricas em numéricas para o modelo as entender\n",
    "\n",
    "lb = LabelEncoder()\n",
    "\n",
    "df['FAIXA ETARIA'] = lb.fit_transform(df['FAIXA ETARIA'])\n",
    "df['OUTRA_RENDA'] = lb.fit_transform(df['OUTRA_RENDA'])\n",
    "df['TRABALHANDO_ATUALMENTE'] = lb.fit_transform(df['TRABALHANDO_ATUALMENTE'])\n",
    "df['ESTADO_CIVIL'] = lb.fit_transform(df['ESTADO_CIVIL'])\n",
    "df['CASA_PROPRIA'] = lb.fit_transform(df['CASA_PROPRIA'])\n",
    "df['ESCOLARIDADE'] = lb.fit_transform(df['ESCOLARIDADE'])\n",
    "df['UF'] = lb.fit_transform(df['UF'])\n",
    "\n",
    "df.dropna(inplace=True)"
   ]
  },
  {
   "cell_type": "code",
   "execution_count": null,
   "id": "9ec0caac",
   "metadata": {},
   "outputs": [
    {
     "data": {
      "text/html": [
       "<div>\n",
       "<style scoped>\n",
       "    .dataframe tbody tr th:only-of-type {\n",
       "        vertical-align: middle;\n",
       "    }\n",
       "\n",
       "    .dataframe tbody tr th {\n",
       "        vertical-align: top;\n",
       "    }\n",
       "\n",
       "    .dataframe thead th {\n",
       "        text-align: right;\n",
       "    }\n",
       "</style>\n",
       "<table border=\"1\" class=\"dataframe\">\n",
       "  <thead>\n",
       "    <tr style=\"text-align: right;\">\n",
       "      <th></th>\n",
       "      <th>UF</th>\n",
       "      <th>IDADE</th>\n",
       "      <th>ESCOLARIDADE</th>\n",
       "      <th>ESTADO_CIVIL</th>\n",
       "      <th>QT_FILHOS</th>\n",
       "      <th>CASA_PROPRIA</th>\n",
       "      <th>QT_IMOVEIS</th>\n",
       "      <th>VL_IMOVEIS</th>\n",
       "      <th>OUTRA_RENDA</th>\n",
       "      <th>OUTRA_RENDA_VALOR</th>\n",
       "      <th>TEMPO_ULTIMO_EMPREGO_MESES</th>\n",
       "      <th>TRABALHANDO_ATUALMENTE</th>\n",
       "      <th>ULTIMO_SALARIO</th>\n",
       "      <th>QT_CARROS</th>\n",
       "      <th>VALOR_TABELA_CARROS</th>\n",
       "      <th>SCORE</th>\n",
       "      <th>FAIXA ETARIA</th>\n",
       "    </tr>\n",
       "  </thead>\n",
       "  <tbody>\n",
       "    <tr>\n",
       "      <th>0</th>\n",
       "      <td>4</td>\n",
       "      <td>19</td>\n",
       "      <td>2</td>\n",
       "      <td>2</td>\n",
       "      <td>0</td>\n",
       "      <td>0</td>\n",
       "      <td>0</td>\n",
       "      <td>0</td>\n",
       "      <td>0</td>\n",
       "      <td>0</td>\n",
       "      <td>8</td>\n",
       "      <td>1</td>\n",
       "      <td>1800.0</td>\n",
       "      <td>0</td>\n",
       "      <td>0</td>\n",
       "      <td>12.000000</td>\n",
       "      <td>2</td>\n",
       "    </tr>\n",
       "    <tr>\n",
       "      <th>1</th>\n",
       "      <td>0</td>\n",
       "      <td>23</td>\n",
       "      <td>1</td>\n",
       "      <td>2</td>\n",
       "      <td>1</td>\n",
       "      <td>0</td>\n",
       "      <td>0</td>\n",
       "      <td>0</td>\n",
       "      <td>0</td>\n",
       "      <td>0</td>\n",
       "      <td>9</td>\n",
       "      <td>0</td>\n",
       "      <td>4800.0</td>\n",
       "      <td>1</td>\n",
       "      <td>50000</td>\n",
       "      <td>18.000000</td>\n",
       "      <td>2</td>\n",
       "    </tr>\n",
       "    <tr>\n",
       "      <th>2</th>\n",
       "      <td>3</td>\n",
       "      <td>25</td>\n",
       "      <td>0</td>\n",
       "      <td>0</td>\n",
       "      <td>0</td>\n",
       "      <td>1</td>\n",
       "      <td>1</td>\n",
       "      <td>220000</td>\n",
       "      <td>0</td>\n",
       "      <td>0</td>\n",
       "      <td>18</td>\n",
       "      <td>1</td>\n",
       "      <td>2200.0</td>\n",
       "      <td>2</td>\n",
       "      <td>30000</td>\n",
       "      <td>23.000000</td>\n",
       "      <td>2</td>\n",
       "    </tr>\n",
       "    <tr>\n",
       "      <th>3</th>\n",
       "      <td>1</td>\n",
       "      <td>27</td>\n",
       "      <td>2</td>\n",
       "      <td>0</td>\n",
       "      <td>1</td>\n",
       "      <td>1</td>\n",
       "      <td>0</td>\n",
       "      <td>0</td>\n",
       "      <td>0</td>\n",
       "      <td>0</td>\n",
       "      <td>22</td>\n",
       "      <td>0</td>\n",
       "      <td>3900.0</td>\n",
       "      <td>0</td>\n",
       "      <td>0</td>\n",
       "      <td>28.666667</td>\n",
       "      <td>2</td>\n",
       "    </tr>\n",
       "    <tr>\n",
       "      <th>4</th>\n",
       "      <td>2</td>\n",
       "      <td>28</td>\n",
       "      <td>1</td>\n",
       "      <td>1</td>\n",
       "      <td>2</td>\n",
       "      <td>0</td>\n",
       "      <td>1</td>\n",
       "      <td>370000</td>\n",
       "      <td>0</td>\n",
       "      <td>0</td>\n",
       "      <td>30</td>\n",
       "      <td>1</td>\n",
       "      <td>6100.0</td>\n",
       "      <td>1</td>\n",
       "      <td>35000</td>\n",
       "      <td>34.166667</td>\n",
       "      <td>2</td>\n",
       "    </tr>\n",
       "  </tbody>\n",
       "</table>\n",
       "</div>"
      ],
      "text/plain": [
       "   UF  IDADE  ESCOLARIDADE  ESTADO_CIVIL  QT_FILHOS  CASA_PROPRIA  QT_IMOVEIS  \\\n",
       "0   4     19             2             2          0             0           0   \n",
       "1   0     23             1             2          1             0           0   \n",
       "2   3     25             0             0          0             1           1   \n",
       "3   1     27             2             0          1             1           0   \n",
       "4   2     28             1             1          2             0           1   \n",
       "\n",
       "   VL_IMOVEIS  OUTRA_RENDA  OUTRA_RENDA_VALOR  TEMPO_ULTIMO_EMPREGO_MESES  \\\n",
       "0           0            0                  0                           8   \n",
       "1           0            0                  0                           9   \n",
       "2      220000            0                  0                          18   \n",
       "3           0            0                  0                          22   \n",
       "4      370000            0                  0                          30   \n",
       "\n",
       "   TRABALHANDO_ATUALMENTE  ULTIMO_SALARIO  QT_CARROS  VALOR_TABELA_CARROS  \\\n",
       "0                       1          1800.0          0                    0   \n",
       "1                       0          4800.0          1                50000   \n",
       "2                       1          2200.0          2                30000   \n",
       "3                       0          3900.0          0                    0   \n",
       "4                       1          6100.0          1                35000   \n",
       "\n",
       "       SCORE  FAIXA ETARIA  \n",
       "0  12.000000             2  \n",
       "1  18.000000             2  \n",
       "2  23.000000             2  \n",
       "3  28.666667             2  \n",
       "4  34.166667             2  "
      ]
     },
     "execution_count": 51,
     "metadata": {},
     "output_type": "execute_result"
    }
   ],
   "source": [
    "# Verificando como o df ficou após o one-hot encoding\n",
    "df.head()"
   ]
  },
  {
   "cell_type": "code",
   "execution_count": 52,
   "id": "bda59f55",
   "metadata": {},
   "outputs": [
    {
     "name": "stdout",
     "output_type": "stream",
     "text": [
      "<class 'pandas.core.frame.DataFrame'>\n",
      "Int64Index: 10474 entries, 0 to 10475\n",
      "Data columns (total 17 columns):\n",
      " #   Column                      Non-Null Count  Dtype  \n",
      "---  ------                      --------------  -----  \n",
      " 0   UF                          10474 non-null  int32  \n",
      " 1   IDADE                       10474 non-null  int64  \n",
      " 2   ESCOLARIDADE                10474 non-null  int32  \n",
      " 3   ESTADO_CIVIL                10474 non-null  int32  \n",
      " 4   QT_FILHOS                   10474 non-null  int64  \n",
      " 5   CASA_PROPRIA                10474 non-null  int32  \n",
      " 6   QT_IMOVEIS                  10474 non-null  int64  \n",
      " 7   VL_IMOVEIS                  10474 non-null  int64  \n",
      " 8   OUTRA_RENDA                 10474 non-null  int32  \n",
      " 9   OUTRA_RENDA_VALOR           10474 non-null  int64  \n",
      " 10  TEMPO_ULTIMO_EMPREGO_MESES  10474 non-null  int64  \n",
      " 11  TRABALHANDO_ATUALMENTE      10474 non-null  int32  \n",
      " 12  ULTIMO_SALARIO              10474 non-null  float64\n",
      " 13  QT_CARROS                   10474 non-null  int64  \n",
      " 14  VALOR_TABELA_CARROS         10474 non-null  int64  \n",
      " 15  SCORE                       10474 non-null  float64\n",
      " 16  FAIXA ETARIA                10474 non-null  int32  \n",
      "dtypes: float64(2), int32(7), int64(8)\n",
      "memory usage: 1.2 MB\n"
     ]
    }
   ],
   "source": [
    "# Agora todas as nossas variáveis são numéricas\n",
    "df.info()"
   ]
  },
  {
   "cell_type": "code",
   "execution_count": 54,
   "id": "6ff6f9b4",
   "metadata": {},
   "outputs": [],
   "source": [
    "# Agora, vamos separar a variável alvo, que é o score\n",
    "# No slicer, pego todas as linhas e somente a coluna 15, que é o índice da coluna \"Score\"\n",
    "target = df.iloc[:,15:16]"
   ]
  },
  {
   "cell_type": "code",
   "execution_count": 56,
   "id": "a6944ded",
   "metadata": {},
   "outputs": [
    {
     "data": {
      "text/html": [
       "<div>\n",
       "<style scoped>\n",
       "    .dataframe tbody tr th:only-of-type {\n",
       "        vertical-align: middle;\n",
       "    }\n",
       "\n",
       "    .dataframe tbody tr th {\n",
       "        vertical-align: top;\n",
       "    }\n",
       "\n",
       "    .dataframe thead th {\n",
       "        text-align: right;\n",
       "    }\n",
       "</style>\n",
       "<table border=\"1\" class=\"dataframe\">\n",
       "  <thead>\n",
       "    <tr style=\"text-align: right;\">\n",
       "      <th></th>\n",
       "      <th>UF</th>\n",
       "      <th>IDADE</th>\n",
       "      <th>ESCOLARIDADE</th>\n",
       "      <th>ESTADO_CIVIL</th>\n",
       "      <th>QT_FILHOS</th>\n",
       "      <th>CASA_PROPRIA</th>\n",
       "      <th>QT_IMOVEIS</th>\n",
       "      <th>VL_IMOVEIS</th>\n",
       "      <th>OUTRA_RENDA</th>\n",
       "      <th>OUTRA_RENDA_VALOR</th>\n",
       "      <th>TEMPO_ULTIMO_EMPREGO_MESES</th>\n",
       "      <th>TRABALHANDO_ATUALMENTE</th>\n",
       "      <th>ULTIMO_SALARIO</th>\n",
       "      <th>QT_CARROS</th>\n",
       "      <th>VALOR_TABELA_CARROS</th>\n",
       "      <th>FAIXA ETARIA</th>\n",
       "    </tr>\n",
       "  </thead>\n",
       "  <tbody>\n",
       "    <tr>\n",
       "      <th>0</th>\n",
       "      <td>4</td>\n",
       "      <td>19</td>\n",
       "      <td>2</td>\n",
       "      <td>2</td>\n",
       "      <td>0</td>\n",
       "      <td>0</td>\n",
       "      <td>0</td>\n",
       "      <td>0</td>\n",
       "      <td>0</td>\n",
       "      <td>0</td>\n",
       "      <td>8</td>\n",
       "      <td>1</td>\n",
       "      <td>1800.0</td>\n",
       "      <td>0</td>\n",
       "      <td>0</td>\n",
       "      <td>2</td>\n",
       "    </tr>\n",
       "    <tr>\n",
       "      <th>1</th>\n",
       "      <td>0</td>\n",
       "      <td>23</td>\n",
       "      <td>1</td>\n",
       "      <td>2</td>\n",
       "      <td>1</td>\n",
       "      <td>0</td>\n",
       "      <td>0</td>\n",
       "      <td>0</td>\n",
       "      <td>0</td>\n",
       "      <td>0</td>\n",
       "      <td>9</td>\n",
       "      <td>0</td>\n",
       "      <td>4800.0</td>\n",
       "      <td>1</td>\n",
       "      <td>50000</td>\n",
       "      <td>2</td>\n",
       "    </tr>\n",
       "    <tr>\n",
       "      <th>2</th>\n",
       "      <td>3</td>\n",
       "      <td>25</td>\n",
       "      <td>0</td>\n",
       "      <td>0</td>\n",
       "      <td>0</td>\n",
       "      <td>1</td>\n",
       "      <td>1</td>\n",
       "      <td>220000</td>\n",
       "      <td>0</td>\n",
       "      <td>0</td>\n",
       "      <td>18</td>\n",
       "      <td>1</td>\n",
       "      <td>2200.0</td>\n",
       "      <td>2</td>\n",
       "      <td>30000</td>\n",
       "      <td>2</td>\n",
       "    </tr>\n",
       "    <tr>\n",
       "      <th>3</th>\n",
       "      <td>1</td>\n",
       "      <td>27</td>\n",
       "      <td>2</td>\n",
       "      <td>0</td>\n",
       "      <td>1</td>\n",
       "      <td>1</td>\n",
       "      <td>0</td>\n",
       "      <td>0</td>\n",
       "      <td>0</td>\n",
       "      <td>0</td>\n",
       "      <td>22</td>\n",
       "      <td>0</td>\n",
       "      <td>3900.0</td>\n",
       "      <td>0</td>\n",
       "      <td>0</td>\n",
       "      <td>2</td>\n",
       "    </tr>\n",
       "    <tr>\n",
       "      <th>4</th>\n",
       "      <td>2</td>\n",
       "      <td>28</td>\n",
       "      <td>1</td>\n",
       "      <td>1</td>\n",
       "      <td>2</td>\n",
       "      <td>0</td>\n",
       "      <td>1</td>\n",
       "      <td>370000</td>\n",
       "      <td>0</td>\n",
       "      <td>0</td>\n",
       "      <td>30</td>\n",
       "      <td>1</td>\n",
       "      <td>6100.0</td>\n",
       "      <td>1</td>\n",
       "      <td>35000</td>\n",
       "      <td>2</td>\n",
       "    </tr>\n",
       "  </tbody>\n",
       "</table>\n",
       "</div>"
      ],
      "text/plain": [
       "   UF  IDADE  ESCOLARIDADE  ESTADO_CIVIL  QT_FILHOS  CASA_PROPRIA  QT_IMOVEIS  \\\n",
       "0   4     19             2             2          0             0           0   \n",
       "1   0     23             1             2          1             0           0   \n",
       "2   3     25             0             0          0             1           1   \n",
       "3   1     27             2             0          1             1           0   \n",
       "4   2     28             1             1          2             0           1   \n",
       "\n",
       "   VL_IMOVEIS  OUTRA_RENDA  OUTRA_RENDA_VALOR  TEMPO_ULTIMO_EMPREGO_MESES  \\\n",
       "0           0            0                  0                           8   \n",
       "1           0            0                  0                           9   \n",
       "2      220000            0                  0                          18   \n",
       "3           0            0                  0                          22   \n",
       "4      370000            0                  0                          30   \n",
       "\n",
       "   TRABALHANDO_ATUALMENTE  ULTIMO_SALARIO  QT_CARROS  VALOR_TABELA_CARROS  \\\n",
       "0                       1          1800.0          0                    0   \n",
       "1                       0          4800.0          1                50000   \n",
       "2                       1          2200.0          2                30000   \n",
       "3                       0          3900.0          0                    0   \n",
       "4                       1          6100.0          1                35000   \n",
       "\n",
       "   FAIXA ETARIA  \n",
       "0             2  \n",
       "1             2  \n",
       "2             2  \n",
       "3             2  \n",
       "4             2  "
      ]
     },
     "execution_count": 56,
     "metadata": {},
     "output_type": "execute_result"
    }
   ],
   "source": [
    "# Agora vamos separar as varáveis que serão usadas para predição, sem a coluna de score\n",
    "preditoras = df.copy()\n",
    "\n",
    "del preditoras['SCORE'] \n",
    "\n",
    "preditoras.head()"
   ]
  },
  {
   "cell_type": "code",
   "execution_count": 57,
   "id": "f9630716",
   "metadata": {},
   "outputs": [],
   "source": [
    "# Separando os dados para treino e teste. Serão 70% de dados de treino e 30% para teste \n",
    "X_treino, X_teste, y_treino, y_teste = train_test_split(preditoras, target, test_size=0.3, random_state=40)"
   ]
  },
  {
   "cell_type": "code",
   "execution_count": 59,
   "id": "a62f2c16",
   "metadata": {},
   "outputs": [],
   "source": [
    "# Aqui, iremos aplicar normalização nos dados de treino e teste\n",
    "sc = MinMaxScaler()\n",
    "\n",
    "X_treino_normalizados = sc.fit_transform(X_treino)\n",
    "X_teste_normalizados = sc.transform(X_teste)\n"
   ]
  },
  {
   "cell_type": "markdown",
   "id": "418a8f6a",
   "metadata": {},
   "source": [
    "Etapa 4: Criando, avaliando e testando o modelo"
   ]
  },
  {
   "cell_type": "code",
   "execution_count": 60,
   "id": "f89a020e",
   "metadata": {},
   "outputs": [],
   "source": [
    "# Treino do modelo\n",
    "\n",
    "modelo = LinearRegression(normalize=True, fit_intercept=True)\n",
    "\n",
    "modelo = modelo.fit(X_treino_normalizados, y_treino)"
   ]
  },
  {
   "cell_type": "code",
   "execution_count": null,
   "id": "369c4147",
   "metadata": {},
   "outputs": [
    {
     "data": {
      "text/plain": [
       "0.7984013631162862"
      ]
     },
     "execution_count": 61,
     "metadata": {},
     "output_type": "execute_result"
    }
   ],
   "source": [
    "# Avaliando a acurácia\n",
    "r2_score(y_teste, modelo.fit(X_treino_normalizados, y_treino).predict(X_teste_normalizados))\n",
    "\n",
    "# O modelo tem cerca de 80% de acurácia"
   ]
  },
  {
   "cell_type": "code",
   "execution_count": 67,
   "id": "e8a58808",
   "metadata": {},
   "outputs": [
    {
     "name": "stdout",
     "output_type": "stream",
     "text": [
      "Score de crédito previsto para o cliente: [[29.20502468]]\n"
     ]
    }
   ],
   "source": [
    "# Inserindo dados novos e prevendo o score de crédito utilizando o modelo\n",
    "UF = 2\n",
    "IDADE = 30 \n",
    "ESCOLARIDADE = 1\n",
    "ESTADO_CIVIL = 2\n",
    "QT_FILHOS = 1\n",
    "CASA_PROPRIA = 1\n",
    "QT_IMOVEIS = 1\n",
    "VL_IMOVEIS = 300000\n",
    "OUTRA_RENDA = 1\n",
    "OUTRA_RENDA_VALOR = 2000 \n",
    "TEMPO_ULTIMO_EMPREGO_MESES = 18 \n",
    "TRABALHANDO_ATUALMENTE = 1\n",
    "ULTIMO_SALARIO = 1800.0\n",
    "QT_CARROS = 4\n",
    "VALOR_TABELA_CARROS = 70000\n",
    "FAIXA_ETARIA = 3\n",
    "\n",
    "novos_dados = [UF, IDADE, ESCOLARIDADE, ESTADO_CIVIL, QT_FILHOS,CASA_PROPRIA,QT_IMOVEIS,VL_IMOVEIS,OUTRA_RENDA,\n",
    "               OUTRA_RENDA_VALOR,TEMPO_ULTIMO_EMPREGO_MESES,TRABALHANDO_ATUALMENTE,ULTIMO_SALARIO,QT_CARROS,\n",
    "               VALOR_TABELA_CARROS, FAIXA_ETARIA]\n",
    "\n",
    "X = np.array(novos_dados).reshape(1, -1)\n",
    "X = sc.transform(X)\n",
    "\n",
    "# Previsão\n",
    "print(f\"Score de crédito previsto para o cliente: {modelo.predict(X)}\")"
   ]
  }
 ],
 "metadata": {
  "kernelspec": {
   "display_name": "base",
   "language": "python",
   "name": "python3"
  },
  "language_info": {
   "codemirror_mode": {
    "name": "ipython",
    "version": 3
   },
   "file_extension": ".py",
   "mimetype": "text/x-python",
   "name": "python",
   "nbconvert_exporter": "python",
   "pygments_lexer": "ipython3",
   "version": "3.9.7"
  }
 },
 "nbformat": 4,
 "nbformat_minor": 5
}
